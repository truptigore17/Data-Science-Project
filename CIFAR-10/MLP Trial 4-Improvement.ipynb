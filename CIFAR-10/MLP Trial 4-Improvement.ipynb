{
 "cells": [
  {
   "cell_type": "code",
   "execution_count": 2,
   "metadata": {},
   "outputs": [
    {
     "name": "stderr",
     "output_type": "stream",
     "text": [
      "/home/ubuntu/anaconda3/envs/tensorflow_p36/lib/python3.6/site-packages/h5py/__init__.py:36: FutureWarning: Conversion of the second argument of issubdtype from `float` to `np.floating` is deprecated. In future, it will be treated as `np.float64 == np.dtype(float).type`.\n",
      "  from ._conv import register_converters as _register_converters\n",
      "Using TensorFlow backend.\n",
      "/home/ubuntu/anaconda3/envs/tensorflow_p36/lib/python3.6/site-packages/matplotlib/__init__.py:962: UserWarning: Duplicate key in file \"/home/ubuntu/.config/matplotlib/matplotlibrc\", line #2\n",
      "  (fname, cnt))\n",
      "/home/ubuntu/anaconda3/envs/tensorflow_p36/lib/python3.6/site-packages/matplotlib/__init__.py:962: UserWarning: Duplicate key in file \"/home/ubuntu/.config/matplotlib/matplotlibrc\", line #3\n",
      "  (fname, cnt))\n"
     ]
    },
    {
     "name": "stdout",
     "output_type": "stream",
     "text": [
      "50000 train samples\n",
      "10000 test samples\n"
     ]
    }
   ],
   "source": [
    "'''\n",
    "Train loss: 1.3808243402862548\n",
    "Train accuracy: 0.52742\n",
    "Test loss: 1.46340176486969\n",
    "Test accuracy: 0.4868\n",
    "''' \n",
    "    \n",
    "from  __future__  import print_function\n",
    "\n",
    "import keras\n",
    "from keras.datasets import cifar10\n",
    "from keras.models import Sequential\n",
    "from keras.layers import Dense, Dropout\n",
    "from keras.optimizers import RMSprop\n",
    "\n",
    "batch_size = 125\n",
    "num_classes = 10\n",
    "epochs = 32\n",
    "\n",
    "# the data, shuffled and split between train and test sets\n",
    "(x_train, y_train), (x_test, y_test) = cifar10.load_data()\n",
    "\n",
    "x_train = x_train.reshape(50000, 3072)\n",
    "x_test = x_test.reshape(10000, 3072)\n",
    "x_train = x_train.astype('float32')\n",
    "x_test = x_test.astype('float32')\n",
    "x_train /= 255\n",
    "x_test /= 255\n",
    "print(x_train.shape[0], 'train samples')\n",
    "print(x_test.shape[0], 'test samples')\n",
    "\n",
    "# convert class vectors to binary class matrices\n",
    "y_train = keras.utils.to_categorical(y_train, num_classes)\n",
    "y_test = keras.utils.to_categorical(y_test, num_classes)\n"
   ]
  },
  {
   "cell_type": "code",
   "execution_count": 5,
   "metadata": {},
   "outputs": [
    {
     "name": "stdout",
     "output_type": "stream",
     "text": [
      "_________________________________________________________________\n",
      "Layer (type)                 Output Shape              Param #   \n",
      "=================================================================\n",
      "dense_5 (Dense)              (None, 1024)              3146752   \n",
      "_________________________________________________________________\n",
      "dropout_3 (Dropout)          (None, 1024)              0         \n",
      "_________________________________________________________________\n",
      "dense_6 (Dense)              (None, 1024)              1049600   \n",
      "_________________________________________________________________\n",
      "dropout_4 (Dropout)          (None, 1024)              0         \n",
      "_________________________________________________________________\n",
      "dense_7 (Dense)              (None, 1024)              1049600   \n",
      "_________________________________________________________________\n",
      "dense_8 (Dense)              (None, 10)                10250     \n",
      "=================================================================\n",
      "Total params: 5,256,202\n",
      "Trainable params: 5,256,202\n",
      "Non-trainable params: 0\n",
      "_________________________________________________________________\n"
     ]
    }
   ],
   "source": [
    "model = Sequential()\n",
    "model.add(Dense(1024, activation='relu', input_shape=(3072,)))\n",
    "model.add(Dropout(0.2))\n",
    "model.add(Dense(1024, activation='relu'))\n",
    "model.add(Dropout(0.35))\n",
    "model.add(Dense(1024, activation='relu'))\n",
    "model.add(Dense(num_classes, activation='softmax'))\n",
    "\n",
    "model.summary()\n"
   ]
  },
  {
   "cell_type": "code",
   "execution_count": 6,
   "metadata": {},
   "outputs": [
    {
     "name": "stdout",
     "output_type": "stream",
     "text": [
      "Train on 50000 samples, validate on 10000 samples\n",
      "Epoch 1/32\n",
      "50000/50000 [==============================] - 53s 1ms/step - loss: 7.2552 - acc: 0.1651 - val_loss: 1.9028 - val_acc: 0.2999\n",
      "Epoch 2/32\n",
      "50000/50000 [==============================] - 52s 1ms/step - loss: 1.9292 - acc: 0.3019 - val_loss: 1.8147 - val_acc: 0.3502\n",
      "Epoch 3/32\n",
      "50000/50000 [==============================] - 52s 1ms/step - loss: 1.8337 - acc: 0.3395 - val_loss: 1.7342 - val_acc: 0.3845\n",
      "Epoch 4/32\n",
      "50000/50000 [==============================] - 52s 1ms/step - loss: 1.7828 - acc: 0.3605 - val_loss: 1.7192 - val_acc: 0.3980\n",
      "Epoch 5/32\n",
      "50000/50000 [==============================] - 53s 1ms/step - loss: 1.7414 - acc: 0.3764 - val_loss: 1.6870 - val_acc: 0.3996\n",
      "Epoch 6/32\n",
      "50000/50000 [==============================] - 52s 1ms/step - loss: 1.7173 - acc: 0.3865 - val_loss: 1.6951 - val_acc: 0.4066\n",
      "Epoch 7/32\n",
      "50000/50000 [==============================] - 53s 1ms/step - loss: 1.6984 - acc: 0.3950 - val_loss: 1.6841 - val_acc: 0.4059\n",
      "Epoch 8/32\n",
      "50000/50000 [==============================] - 52s 1ms/step - loss: 1.6834 - acc: 0.4003 - val_loss: 1.6796 - val_acc: 0.4154\n",
      "Epoch 9/32\n",
      "50000/50000 [==============================] - 52s 1ms/step - loss: 1.6661 - acc: 0.4048 - val_loss: 1.6384 - val_acc: 0.4190\n",
      "Epoch 10/32\n",
      "50000/50000 [==============================] - 53s 1ms/step - loss: 1.6549 - acc: 0.4102 - val_loss: 1.6109 - val_acc: 0.4369\n",
      "Epoch 11/32\n",
      "50000/50000 [==============================] - 53s 1ms/step - loss: 1.6398 - acc: 0.4172 - val_loss: 1.6291 - val_acc: 0.4268\n",
      "Epoch 12/32\n",
      "50000/50000 [==============================] - 52s 1ms/step - loss: 1.6324 - acc: 0.4208 - val_loss: 1.5752 - val_acc: 0.4462\n",
      "Epoch 13/32\n",
      "50000/50000 [==============================] - 53s 1ms/step - loss: 1.6236 - acc: 0.4234 - val_loss: 1.5928 - val_acc: 0.4515\n",
      "Epoch 14/32\n",
      "50000/50000 [==============================] - 54s 1ms/step - loss: 1.6129 - acc: 0.4270 - val_loss: 1.5326 - val_acc: 0.4719\n",
      "Epoch 15/32\n",
      "50000/50000 [==============================] - 54s 1ms/step - loss: 1.6040 - acc: 0.4319 - val_loss: 1.5647 - val_acc: 0.4445\n",
      "Epoch 16/32\n",
      "50000/50000 [==============================] - 54s 1ms/step - loss: 1.6030 - acc: 0.4324 - val_loss: 1.6300 - val_acc: 0.4033\n",
      "Epoch 17/32\n",
      "50000/50000 [==============================] - 54s 1ms/step - loss: 1.5890 - acc: 0.4354 - val_loss: 1.5508 - val_acc: 0.4607\n",
      "Epoch 18/32\n",
      "50000/50000 [==============================] - 54s 1ms/step - loss: 1.5810 - acc: 0.4396 - val_loss: 1.5416 - val_acc: 0.4634\n",
      "Epoch 19/32\n",
      "50000/50000 [==============================] - 53s 1ms/step - loss: 1.5788 - acc: 0.4419 - val_loss: 1.5360 - val_acc: 0.4693\n",
      "Epoch 20/32\n",
      "50000/50000 [==============================] - 53s 1ms/step - loss: 1.5678 - acc: 0.4445 - val_loss: 1.5226 - val_acc: 0.4613\n",
      "Epoch 21/32\n",
      "50000/50000 [==============================] - 53s 1ms/step - loss: 1.5662 - acc: 0.4459 - val_loss: 1.5470 - val_acc: 0.4444\n",
      "Epoch 22/32\n",
      "50000/50000 [==============================] - 54s 1ms/step - loss: 1.5562 - acc: 0.4490 - val_loss: 1.5219 - val_acc: 0.4671\n",
      "Epoch 23/32\n",
      "50000/50000 [==============================] - 54s 1ms/step - loss: 1.5516 - acc: 0.4497 - val_loss: 1.5069 - val_acc: 0.4719\n",
      "Epoch 24/32\n",
      "50000/50000 [==============================] - 53s 1ms/step - loss: 1.5486 - acc: 0.4527 - val_loss: 1.5622 - val_acc: 0.4593\n",
      "Epoch 25/32\n",
      "50000/50000 [==============================] - 54s 1ms/step - loss: 1.5422 - acc: 0.4538 - val_loss: 1.5049 - val_acc: 0.4657\n",
      "Epoch 26/32\n",
      "50000/50000 [==============================] - 53s 1ms/step - loss: 1.5419 - acc: 0.4562 - val_loss: 1.5033 - val_acc: 0.4762\n",
      "Epoch 27/32\n",
      "50000/50000 [==============================] - 53s 1ms/step - loss: 1.5421 - acc: 0.4530 - val_loss: 1.5228 - val_acc: 0.4752\n",
      "Epoch 28/32\n",
      "50000/50000 [==============================] - 52s 1ms/step - loss: 1.5293 - acc: 0.4585 - val_loss: 1.4527 - val_acc: 0.4958\n",
      "Epoch 29/32\n",
      "50000/50000 [==============================] - 52s 1ms/step - loss: 1.5233 - acc: 0.4618 - val_loss: 1.4958 - val_acc: 0.4775\n",
      "Epoch 30/32\n",
      "50000/50000 [==============================] - 53s 1ms/step - loss: 1.5253 - acc: 0.4634 - val_loss: 1.4639 - val_acc: 0.4946\n",
      "Epoch 31/32\n",
      "50000/50000 [==============================] - 53s 1ms/step - loss: 1.5175 - acc: 0.4643 - val_loss: 1.4542 - val_acc: 0.4968\n",
      "Epoch 32/32\n",
      "50000/50000 [==============================] - 53s 1ms/step - loss: 1.5159 - acc: 0.4691 - val_loss: 1.5179 - val_acc: 0.4723\n"
     ]
    }
   ],
   "source": [
    "model.compile(loss='categorical_crossentropy',\n",
    "              optimizer=RMSprop(),\n",
    "              metrics=['accuracy'])\n",
    "\n",
    "history = model.fit(x_train, y_train,\n",
    "                    batch_size=batch_size,\n",
    "                    epochs=epochs,\n",
    "                    verbose=1,\n",
    "                    validation_data=(x_test, y_test))\n"
   ]
  },
  {
   "cell_type": "code",
   "execution_count": 7,
   "metadata": {},
   "outputs": [
    {
     "name": "stdout",
     "output_type": "stream",
     "text": [
      "50000/50000 [==============================] - 21s 414us/step\n",
      "Train loss: 1.4482624677276612\n",
      "Train accuracy: 0.50138\n",
      "Test loss: 1.5178697803497314\n",
      "Test accuracy: 0.4723\n"
     ]
    }
   ],
   "source": [
    "# Score trained model.\n",
    "scores1 = model.evaluate(x_train, y_train, verbose=1)\n",
    "print('Train loss:', scores1[0])\n",
    "print('Train accuracy:', scores1[1])\n",
    "\n",
    "# Score test model\n",
    "score = model.evaluate(x_test, y_test, verbose=0)\n",
    "print('Test loss:', score[0])\n",
    "print('Test accuracy:', score[1])"
   ]
  },
  {
   "cell_type": "code",
   "execution_count": 8,
   "metadata": {},
   "outputs": [
    {
     "data": {
      "text/plain": [
       "dict_keys(['val_loss', 'val_acc', 'loss', 'acc'])"
      ]
     },
     "execution_count": 8,
     "metadata": {},
     "output_type": "execute_result"
    }
   ],
   "source": [
    "history_dict = history.history\n",
    "history_dict.keys()"
   ]
  },
  {
   "cell_type": "code",
   "execution_count": 6,
   "metadata": {},
   "outputs": [
    {
     "data": {
      "image/png": "[encoded data removed]",
      "text/plain": [
       "<matplotlib.figure.Figure at 0x7ff948449978>"
      ]
     },
     "metadata": {},
     "output_type": "display_data"
    }
   ],
   "source": [
    "import matplotlib.pyplot as plt\n",
    "import matplotlib\n",
    "%matplotlib inline\n",
    "matplotlib.style.use('ggplot')\n",
    "\n",
    "loss = history.history['loss']\n",
    "val_loss = history.history['val_loss']\n",
    "\n",
    "epochs = range(1, len(loss) + 1)\n",
    "\n",
    "plt.plot(epochs, loss, 'bo', label='Training loss')\n",
    "plt.plot(epochs, val_loss, 'b', label='Validation loss')\n",
    "plt.title('Training and validation loss')\n",
    "plt.xlabel('Epochs')\n",
    "plt.ylabel('Loss')\n",
    "plt.legend()\n",
    "\n",
    "plt.show()"
   ]
  },
  {
   "cell_type": "code",
   "execution_count": 7,
   "metadata": {},
   "outputs": [
    {
     "data": {
      "image/png": "[encoded data removed]",
      "text/plain": [
       "<matplotlib.figure.Figure at 0x7ff948449a20>"
      ]
     },
     "metadata": {},
     "output_type": "display_data"
    }
   ],
   "source": [
    "import matplotlib.pyplot as plt\n",
    "import matplotlib\n",
    "%matplotlib inline\n",
    "matplotlib.style.use('ggplot')\n",
    "plt.clf()   # clear figure\n",
    "acc = history_dict['acc']\n",
    "val_acc = history_dict['val_acc']\n",
    "\n",
    "plt.plot(epochs, acc, 'bo', label='Training acc')\n",
    "plt.plot(epochs, val_acc, 'b', label='Validation acc')\n",
    "plt.title('Training and validation accuracy')\n",
    "plt.xlabel('Epochs')\n",
    "plt.ylabel('Loss')\n",
    "plt.legend()\n",
    "\n",
    "plt.show()"
   ]
  }
 ],
 "metadata": {
  "kernelspec": {
   "display_name": "Python [conda env:tensorflow_p36]",
   "language": "python",
   "name": "conda-env-tensorflow_p36-py"
  },
  "language_info": {
   "codemirror_mode": {
    "name": "ipython",
    "version": 3
   },
   "file_extension": ".py",
   "mimetype": "text/x-python",
   "name": "python",
   "nbconvert_exporter": "python",
   "pygments_lexer": "ipython3",
   "version": "3.6.4"
  }
 },
 "nbformat": 4,
 "nbformat_minor": 2
}
